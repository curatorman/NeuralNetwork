{
 "cells": [
  {
   "cell_type": "code",
   "execution_count": 808,
   "metadata": {
    "collapsed": false
   },
   "outputs": [
    {
     "name": "stdout",
     "output_type": "stream",
     "text": [
      "Populating the interactive namespace from numpy and matplotlib\n"
     ]
    },
    {
     "name": "stderr",
     "output_type": "stream",
     "text": [
      "WARNING: pylab import has clobbered these variables: ['test', 'indices', 'sci']\n",
      "`%matplotlib` prevents importing * from pylab and numpy\n"
     ]
    }
   ],
   "source": [
    "import numpy as np\n",
    "import scipy as sci\n",
    "import scipy.io\n",
    "from sklearn import svm\n",
    "from skimage import feature\n",
    "import matplotlib.pyplot as plt\n",
    "import matplotlib.cm as cm\n",
    "import matplotlib.mlab as mlab\n",
    "import csv\n",
    "from sklearn.feature_extraction import DictVectorizer\n",
    "from sklearn.preprocessing import Imputer\n",
    "import sklearn.preprocessing as pp\n",
    "from sklearn.metrics import confusion_matrix\n",
    "from sklearn.cross_validation import train_test_split\n",
    "from sklearn.cross_validation import KFold\n",
    "import math\n",
    "import time\n",
    "%pylab inline"
   ]
  },
  {
   "cell_type": "code",
   "execution_count": 809,
   "metadata": {
    "collapsed": true
   },
   "outputs": [],
   "source": [
    "def create_csv(pred, name):\n",
    "    np.savetxt(name, np.dstack((np.arange(1, len(pred)+1), pred))[0],\"%d,%d\",header=\"Id,Category\")\n",
    "\n",
    "def benchmark(pred_labels, true_labels):\n",
    "    errors = pred_labels != true_labels\n",
    "    err_rate = sum(errors) / float(len(true_labels))\n",
    "    indices = errors.nonzero()\n",
    "    return err_rate, indices\n"
   ]
  },
  {
   "cell_type": "code",
   "execution_count": 810,
   "metadata": {
    "collapsed": false
   },
   "outputs": [],
   "source": [
    "# initialize data\n",
    "train = scipy.io.loadmat(\"dataset/train.mat\")\n",
    "test = scipy.io.loadmat(\"dataset/test.mat\")\n",
    "test = test['test_images']\n",
    "\n",
    "images = train['train_images']\n",
    "labels = train['train_labels']\n",
    "\n",
    "test_data = np.zeros((10000, 28*28))\n",
    "for i in range(10000):\n",
    "    test_data[i] = test[i].reshape((28*28,))\n",
    "    \n",
    "images_reshaped = np.zeros((60000, 28*28))\n",
    "for i in range(60000):\n",
    "    curr = []\n",
    "    for j in range(28):\n",
    "        for k in range(28):\n",
    "            curr.append(images[j][k][i])\n",
    "    images_reshaped[i] = curr"
   ]
  },
  {
   "cell_type": "code",
   "execution_count": 811,
   "metadata": {
    "collapsed": true
   },
   "outputs": [],
   "source": [
    "images_reshaped = pp.normalize(images_reshaped)\n",
    "test_data = pp.normalize(test_data)"
   ]
  },
  {
   "cell_type": "code",
   "execution_count": 812,
   "metadata": {
    "collapsed": true
   },
   "outputs": [],
   "source": [
    "def sigmoid(x):\n",
    "    return 1/(1+np.exp(-x))"
   ]
  },
  {
   "cell_type": "code",
   "execution_count": 814,
   "metadata": {
    "collapsed": true
   },
   "outputs": [],
   "source": [
    "def transform(n):\n",
    "    ret = np.zeros(10)\n",
    "    ret[n] = 1\n",
    "    return ret"
   ]
  },
  {
   "cell_type": "code",
   "execution_count": 1049,
   "metadata": {
    "collapsed": false
   },
   "outputs": [],
   "source": [
    "class Neural_Network(object):\n",
    "    def __init__(self, images, labels):\n",
    "        self.images = images\n",
    "        self.labels = labels\n",
    "        self.inputLayerSize = images.shape[1]\n",
    "        self.outputLayerSize = 10\n",
    "        self.hiddenLayerSize = 200\n",
    "        \n",
    "        self.V = 0.01 * np.random.randn(self.hiddenLayerSize, \\\n",
    "                                        self.inputLayerSize + 1)\n",
    "        self.W = 0.01 * np.random.randn(self.outputLayerSize, \\\n",
    "                                        self.hiddenLayerSize + 1)\n",
    "        \n",
    "    def forward(self, images):\n",
    "        ones = np.ones((len(images), 1))\n",
    "        bias_images = np.hstack((images, ones))\n",
    "        self.a = self.V.dot(bias_images.T)\n",
    "        self.b = np.tanh(self.a)\n",
    "        bias_b = np.vstack((self.b, ones.T))\n",
    "        self.c = self.W.dot(bias_b)\n",
    "        self.d = sigmoid(self.c)\n",
    "        return self.d.T\n",
    "\n",
    "    def transform_to_labels(self, predictions):\n",
    "        results = np.zeros(len(predictions))\n",
    "        for i in range(len(predictions)):\n",
    "            results[i] = np.argmax(predictions[i])\n",
    "        return results.reshape(len(results), 1)\n",
    "    \n",
    "    def transform_to_tens(self, predictions):\n",
    "        results = np.zeros((len(predictions), 10))\n",
    "        for i in range(len(predictions)):\n",
    "            results[i][predictions[i]] = 1\n",
    "        return results\n",
    "    \n",
    "    # only one hidden layer\n",
    "    def predict(self, images):\n",
    "        result = self.forward(images)\n",
    "        return self.transform_to_labels(result)\n",
    "    \n",
    "    def MSE(self):\n",
    "        pred = self.forward(self.images)\n",
    "        actual = self.transform_to_tens(self.labels)\n",
    "        diff_sq = (pred-actual)**2\n",
    "        result = 0.5 * np.sum(diff_sq)\n",
    "        return result\n",
    "    \n",
    "    def CEE(self):\n",
    "        pred = self.forward(self.images)\n",
    "        actual = self.transform_to_tens(self.labels)\n",
    "        diff = actual*np.log(pred)+(1-actual)*(np.log(1-pred))\n",
    "        result = -1*np.sum(diff)\n",
    "        return result\n",
    "    \n",
    "    def train(self, learning_rate = 0.2, cost = \"MSE\", hidden_size = 200, num_labels = 10, num_epochs = 10, calc_error = False):\n",
    "        curr_epochs = 0\n",
    "        counter = 0\n",
    "        x_vals = []\n",
    "        errors = []\n",
    "        accuracy = []\n",
    "        while(curr_epochs < num_epochs):\n",
    "            if curr_epochs%10==0:\n",
    "                counter = 0\n",
    "            for i in range(len(self.images)):\n",
    "                num = np.random.randint(len(self.images))\n",
    "\n",
    "                sample = np.hstack((self.images[num], 1))\n",
    "                # we are doing stoch. grad. descent, so if we have sample i, then we must update V_i and W_i with the gradients dL/dV_i and dL/dW_i\n",
    "                # perform forward pass, where we calculate and store the gradients for hidden layer, and output layer\n",
    "                a = sample.dot(self.V.T) # a 1x200 vector for this sample's inputs to the hidden layer\n",
    "                b = np.hstack((np.tanh(a), 1))\n",
    "                c = self.W.dot(b)\n",
    "                d = sigmoid(c) # should be a 1x10 vector for this sample's output layer\n",
    "    \n",
    "                # for V\n",
    "                \n",
    "                dVi_forward = sample\n",
    "                da_forward = np.hstack((1-np.tanh(a)**2, 1))\n",
    "                db_forward = self.W.T\n",
    "\n",
    "                # for both\n",
    "                dd = - (transform(self.labels[num]) - d)\n",
    "                # for cross entropy, divide by d*(1-d)\n",
    "                if cost == \"CEE\":\n",
    "                    dd = dd/(d*(1-d))\n",
    "                \n",
    "                # for W\n",
    "                dWi_forward = b\n",
    "                dc_forward = sigmoid(c)*(1-sigmoid(c))\n",
    "                dc = dd * dc_forward \n",
    "                \n",
    "                # perform backward pass\n",
    "                # for V\n",
    "                db = db_forward.dot(dc)\n",
    "                da = db * da_forward.T\n",
    "                da = da.reshape(201, 1)\n",
    "                dVi_forward = dVi_forward.reshape(785, 1)\n",
    "                dVi = da.dot(dVi_forward.T)\n",
    "\n",
    "                # for W\n",
    "                dc = dc.reshape(10, 1)\n",
    "                dWi_forward = dWi_forward.reshape(201, 1)\n",
    "                dWi = dc.dot(dWi_forward.T)\n",
    "                \n",
    "                # update weights\n",
    "                self.V = self.V - learning_rate * dVi[:200] / (counter + 1)\n",
    "                self.W = self.W - learning_rate * dWi[:200] / (counter + 1)\n",
    "                if calc_error:\n",
    "                    if i%2000==0:\n",
    "                        results = NN.predict(self.images)\n",
    "                        error_rate, indices = benchmark(results, self.labels)\n",
    "                        accuracy.append(1-error_rate)\n",
    "                        x_vals.append(curr_epochs*len(self.images) + i)\n",
    "                        if cost == \"CEE\":\n",
    "                            errors.append(self.CEE())\n",
    "                        else:\n",
    "                            errors.append(self.MSE())\n",
    "            curr_epochs+=1\n",
    "            counter+=1\n",
    "        return self.V, self.W, x_vals, errors, accuracy"
   ]
  },
  {
   "cell_type": "markdown",
   "metadata": {},
   "source": [
    "For the learning rate, I tried various learning rates to find which one gave me better results, and a learning rate of 0.2 was the best one I got. I stopped training after I trained over a certain number of epochs, specified in the train() method. I initialized the weights randomly from a normal distribution with a mean of 0 and a standard deviation of 0.01."
   ]
  },
  {
   "cell_type": "markdown",
   "metadata": {},
   "source": [
    "## Mean Squared Error"
   ]
  },
  {
   "cell_type": "code",
   "execution_count": 1062,
   "metadata": {
    "collapsed": false
   },
   "outputs": [
    {
     "name": "stdout",
     "output_type": "stream",
     "text": [
      "It took 1527.983106136322 seconds to train\n"
     ]
    }
   ],
   "source": [
    "train, val_set, train_labels, val_labels = train_test_split(images_reshaped, labels, test_size = int(len(labels)/6), random_state = 0)\n",
    "begin = time.time()\n",
    "NN = Neural_Network(train, train_labels)\n",
    "NN.forward(train)\n",
    "V, W, x_vals, errors, accuracy = NN.train(num_epochs = 20, cost = \"MSE\", calc_error = True)\n",
    "end = time.time()\n",
    "elapsed = end - begin\n",
    "print(\"It took\", elapsed, \"seconds to train\")"
   ]
  },
  {
   "cell_type": "code",
   "execution_count": 1063,
   "metadata": {
    "collapsed": false
   },
   "outputs": [
    {
     "name": "stdout",
     "output_type": "stream",
     "text": [
      "The training accuracy is 0.9511\n",
      "The validation accuracy is 0.9391\n"
     ]
    }
   ],
   "source": [
    "train_results = NN.predict(train)\n",
    "error_rate, indices = benchmark(train_results, train_labels)\n",
    "print(\"The training accuracy is\", 1 - error_rate)\n",
    "\n",
    "val_results = NN.predict(val_set)\n",
    "error_rate, indices = benchmark(val_results, val_labels)\n",
    "print(\"The validation accuracy is\", 1 - error_rate)"
   ]
  },
  {
   "cell_type": "code",
   "execution_count": 1064,
   "metadata": {
    "collapsed": false
   },
   "outputs": [
    {
     "data": {
      "image/png": "[encoded data removed]",
      "text/plain": [
       "<matplotlib.figure.Figure at 0x10ea2d5c0>"
      ]
     },
     "metadata": {},
     "output_type": "display_data"
    },
    {
     "data": {
      "image/png": "[encoded data removed]",
      "text/plain": [
       "<matplotlib.figure.Figure at 0x10e9329e8>"
      ]
     },
     "metadata": {},
     "output_type": "display_data"
    }
   ],
   "source": [
    "plt.plot(x_vals, errors)\n",
    "plt.title('Errors vs. Iterations')\n",
    "plt.xlabel('Iterations')\n",
    "plt.ylabel('Mean Squared Error')\n",
    "plt.show()\n",
    "\n",
    "plt.plot(x_vals, accuracy)\n",
    "plt.title('Classification Accuracy vs. Iterations')\n",
    "plt.xlabel('Iterations')\n",
    "plt.ylabel('Classification Accuracy')\n",
    "plt.show()"
   ]
  },
  {
   "cell_type": "markdown",
   "metadata": {},
   "source": [
    "## Cross Entropy Error"
   ]
  },
  {
   "cell_type": "code",
   "execution_count": 1065,
   "metadata": {
    "collapsed": false
   },
   "outputs": [
    {
     "name": "stdout",
     "output_type": "stream",
     "text": [
      "It took 1551.7008900642395 seconds to train\n"
     ]
    }
   ],
   "source": [
    "train, val_set, train_labels, val_labels = train_test_split(images_reshaped, labels, test_size = int(len(labels)/6), random_state = 0)\n",
    "begin = time.time()\n",
    "NN = Neural_Network(train, train_labels)\n",
    "NN.forward(train)\n",
    "V, W, x_vals, errors, accuracy = NN.train(num_epochs = 20, cost = \"CEE\", calc_error = True)\n",
    "end = time.time()\n",
    "elapsed = end - begin\n",
    "print(\"It took\", elapsed, \"seconds to train\")"
   ]
  },
  {
   "cell_type": "code",
   "execution_count": 1066,
   "metadata": {
    "collapsed": false
   },
   "outputs": [
    {
     "name": "stdout",
     "output_type": "stream",
     "text": [
      "The training accuracy is 0.97444\n",
      "The validation accuracy is 0.9548\n"
     ]
    }
   ],
   "source": [
    "train_results = NN.predict(train)\n",
    "error_rate, indices = benchmark(train_results, train_labels)\n",
    "print(\"The training accuracy is\", 1 - error_rate)\n",
    "\n",
    "val_results = NN.predict(val_set)\n",
    "error_rate, indices = benchmark(val_results, val_labels)\n",
    "print(\"The validation accuracy is\", 1 - error_rate)"
   ]
  },
  {
   "cell_type": "code",
   "execution_count": 1067,
   "metadata": {
    "collapsed": false
   },
   "outputs": [
    {
     "data": {
      "image/png": "[encoded data removed]",
      "text/plain": [
       "<matplotlib.figure.Figure at 0x10ea3e358>"
      ]
     },
     "metadata": {},
     "output_type": "display_data"
    },
    {
     "data": {
      "image/png": "[encoded data removed]",
      "text/plain": [
       "<matplotlib.figure.Figure at 0x10e9ec898>"
      ]
     },
     "metadata": {},
     "output_type": "display_data"
    }
   ],
   "source": [
    "plt.plot(x_vals, errors)\n",
    "plt.title('Errors vs. Iterations')\n",
    "plt.xlabel('Iterations')\n",
    "plt.ylabel('Cross Entropy Error')\n",
    "plt.show()\n",
    "\n",
    "plt.plot(x_vals, accuracy)\n",
    "plt.title('Classification Accuracy vs. Iterations')\n",
    "plt.xlabel('Iterations')\n",
    "plt.ylabel('Classification Accuracy')\n",
    "plt.show()"
   ]
  },
  {
   "cell_type": "markdown",
   "metadata": {},
   "source": [
    "The mean squared error and cross entropy error differ in that the cross entropy error is the mean squared error divided by $z_k(x)\\cdot(1-z_k(x))$. The mean squared error is good for regression, while the cross entropy error is good for classification because the cross entropy error puts an exponential penalty when the classification is further away from its correct label . For my neural network, using the cross entropy error results in better performance."
   ]
  },
  {
   "cell_type": "markdown",
   "metadata": {},
   "source": [
    "## Creating the Kaggle submission"
   ]
  },
  {
   "cell_type": "code",
   "execution_count": 1068,
   "metadata": {
    "collapsed": false
   },
   "outputs": [
    {
     "name": "stdout",
     "output_type": "stream",
     "text": [
      "It took 2774.18972492218 seconds to train\n"
     ]
    }
   ],
   "source": [
    "train, val_set, train_labels, val_labels = train_test_split(images_reshaped, labels, test_size = int(len(labels)/6), random_state = 0)\n",
    "begin = time.time()\n",
    "NN = Neural_Network(train, train_labels)\n",
    "NN.forward(train)\n",
    "V, W, x_vals, errors, accuracy = NN.train(num_epochs = 60, cost = \"CEE\")\n",
    "end = time.time()\n",
    "elapsed = end - begin\n",
    "print(\"It took\", elapsed, \"seconds to train\")"
   ]
  },
  {
   "cell_type": "code",
   "execution_count": 1069,
   "metadata": {
    "collapsed": false
   },
   "outputs": [
    {
     "name": "stdout",
     "output_type": "stream",
     "text": [
      "The validation accuracy is 0.9599\n"
     ]
    }
   ],
   "source": [
    "val_results = NN.predict(val_set)\n",
    "error_rate, indices = benchmark(val_results, val_labels)\n",
    "print(\"The validation accuracy is\", 1 - error_rate)"
   ]
  },
  {
   "cell_type": "code",
   "execution_count": 1070,
   "metadata": {
    "collapsed": false
   },
   "outputs": [],
   "source": [
    "results = NN.predict(test_data)\n",
    "results = results.reshape((len(results),))\n",
    "create_csv(results, \"digits.csv\")"
   ]
  },
  {
   "cell_type": "markdown",
   "metadata": {},
   "source": [
    "My best Kaggle score was 0.9728"
   ]
  }
 ],
 "metadata": {
  "kernelspec": {
   "display_name": "Python 3",
   "language": "python",
   "name": "python3"
  },
  "language_info": {
   "codemirror_mode": {
    "name": "ipython",
    "version": 3
   },
   "file_extension": ".py",
   "mimetype": "text/x-python",
   "name": "python",
   "nbconvert_exporter": "python",
   "pygments_lexer": "ipython3",
   "version": "3.4.4"
  }
 },
 "nbformat": 4,
 "nbformat_minor": 0
}
